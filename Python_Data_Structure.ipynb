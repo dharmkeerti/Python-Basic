{
  "nbformat": 4,
  "nbformat_minor": 0,
  "metadata": {
    "colab": {
      "provenance": []
    },
    "kernelspec": {
      "name": "python3",
      "display_name": "Python 3"
    },
    "language_info": {
      "name": "python"
    }
  },
  "cells": [
    {
      "cell_type": "markdown",
      "source": [
        "# Data Types and Structures Solutions"
      ],
      "metadata": {
        "id": "vaCsu2XOs0eT"
      }
    },
    {
      "cell_type": "markdown",
      "source": [
        "1. What are data structures, and why are they important?\n",
        "- Data structures are ways to organize and store data to allow for efficient access and modification. They are important because they enable us to solve complex problems by managing data effectively, which impacts the performance and efficiency of programs.\n",
        "\n",
        "2. Explain the difference between mutable and immutable data types with examples.\n",
        "- Mutable data types can be modified after they are created. Examples include lists and dictionaries. If you change an element in a list, the list itself is updated in memory. Immutable data types cannot be changed once created. Examples are strings and tuples. Any operation that seems to change an immutable object, like concatenating a string, actually creates a new object.\n",
        "\n",
        "3. What are the main differences between lists and tuples in Python?\n",
        "- Mutability: Lists are mutable; tuples are immutable.\n",
        "- Syntax: Lists use square brackets []; tuples use parentheses ().\n",
        "- Performance: Tuples are generally faster and use less memory than lists.\n",
        "- Use Case: Lists are for dynamic collections that will change; tuples are for fixed data that should not be altered.\n",
        "\n",
        "4. Describe how dictionaries store data.\n",
        "- Dictionaries store data in key-value pairs. Each unique key is mapped to a specific value. This structure is implemented using a hash table, which allows for very fast retrieval of values based on their keys.\n",
        "\n",
        "5. Why might you use a set instead of a list in Python?\n",
        "- You'd use a set over a list when you need a collection of unique, unordered elements. Sets are highly optimized for fast membership testing (in keyword), and they automatically handle the removal of duplicate entries, which is a major advantage over lists.\n",
        "\n",
        "6. What is a string in Python, and how is it different from a list?\n",
        "- A string is an immutable sequence of characters. A list is a mutable sequence of elements of any data type. While both are sequences that can be indexed, you cannot change a character within a string. You can, however, change an element within a list.\n",
        "\n",
        "7. How do tuples ensure data integrity in Python?\n",
        "- Tuples ensure data integrity because their immutability prevents accidental modification of their elements. Once a tuple is created, its contents are fixed, which guarantees that the data remains consistent and uncorrupted, especially when passed between different parts of a program.\n",
        "\n",
        "8. What is a hash table, and how does it relate to dictionaries in Python?\n",
        "- A hash table is a data structure that stores data in an associative array, mapping keys to values. A Python dictionary is an implementation of a hash table. The keys in a dictionary are hashed to determine where their corresponding values are stored in memory, providing fast, constant-time average access.\n",
        "\n",
        "9. Can lists contain different data types in Python?\n",
        "- Yes, lists in Python are heterogeneous, meaning they can contain elements of different data types. For example, a single list can hold an integer, a string, a float, and even another list.\n",
        "\n",
        "10. Explain why strings are immutable in Python.\n",
        "- Strings are immutable to improve performance and thread safety. Since a string's value can't change, Python can optimize memory usage by having multiple variables point to the same string in memory. This also prevents unexpected side effects when a string is passed to different parts of a program.\n",
        "\n",
        "11. What advantages do dictionaries offer over lists for certain tasks?\n",
        "- Dictionaries offer a key-based lookup that provides O(1) average time complexity for data retrieval, which is significantly faster than the O(n) time complexity of searching for a value in a list. They are ideal for tasks requiring fast lookups, such as caching, counting frequencies, or storing configuration settings.\n",
        "\n",
        "12. Describe a scenario where using a tuple would be preferable over a list.\n",
        "- Using a tuple is preferable when you need to store a fixed collection of related items that should not change, such as the coordinates of a point (x, y), the days of the week, or an RGB color value.\n",
        "\n",
        "13. How do sets handle duplicate values in Python?\n",
        "- Sets automatically discard duplicate values. When you add an element to a set, if that element already exists, the set simply ignores the new addition. This makes sets perfect for efficiently finding and storing unique items from a collection.\n",
        "\n",
        "14. How does the “in” keyword work differently for lists and dictionaries?\n",
        "- For lists, the in keyword checks if a value exists anywhere in the list. For dictionaries, the in keyword checks if a key exists in the dictionary. To check for a value in a dictionary, you'd need to use value in my_dict.values(), which is much slower.\n",
        "\n",
        "15. Can you modify the elements of a tuple? Explain why or why not.\n",
        "- No, you cannot modify the elements of a tuple. This is because tuples are immutable. Once a tuple is created in memory, its contents are fixed. Any attempt to change an element will result in a TypeError.\n",
        "\n",
        "16. What is a nested dictionary, and give an example of its use case?\n",
        "- A nested dictionary is a dictionary where the values themselves are other dictionaries. A common use case is storing structured data, like a JSON-like object. For example, you could use a nested dictionary to store user profiles, where the outer keys are usernames and the inner dictionaries hold information like name, email, and location.\n",
        "\n",
        "- Example:\n",
        "user_profiles = {'user1': {'name': 'Alice', 'email': 'alice@example.com'},\n",
        "    'user2': {'name': 'Bob', 'email':'bob@example.com'}}\n",
        "\n",
        "17. Describe the time complexity of accessing elements in a dictionary.\n",
        "- The time complexity for accessing elements in a dictionary is O(1) on average. This is because the hash table structure allows for direct and rapid access to the value associated with a given key, regardless of the dictionary's size. In the worst-case scenario, due to hash collisions, it can be O(n).\n",
        "\n",
        "18. In what situations are lists preferred over dictionaries?\n",
        "- Lists are preferred over dictionaries when the data has a natural sequential order or when you need to store a collection of items without a unique identifier. They are ideal for tasks like iterating through a sequence, storing a history of events, or implementing a queue or stack.\n",
        "\n",
        "19. Why are dictionaries considered unordered, and how does that affect data retrieval?\n",
        "- Dictionaries are considered unordered because, before Python 3.7, the order of key-value pairs was not guaranteed. This did not affect data retrieval by key, as that relies on hashing, but it meant you couldn't rely on iterating through a dictionary in the same order every time. As of Python 3.7, dictionaries do maintain insertion order.\n",
        "\n",
        "20. Explain the difference between a list and a dictionary in terms of data retrieval.\n",
        "- In a list, data retrieval is based on a numerical index. To find a specific item, you need to know its position (e.g., my_list[2]). In a dictionary, data retrieval is based on a key. You retrieve a value by using its associated key (e.g., my_dict['name']). This makes dictionaries more suitable for associative data and lists for sequential data."
      ],
      "metadata": {
        "id": "xIZEOvY7tAWv"
      }
    },
    {
      "cell_type": "markdown",
      "source": [
        "# Practical Solutions"
      ],
      "metadata": {
        "id": "CGphfSB5wccs"
      }
    },
    {
      "cell_type": "markdown",
      "source": [
        "1. Write a code to create a string with your name and print it."
      ],
      "metadata": {
        "id": "WjocFEeVwhJ9"
      }
    },
    {
      "cell_type": "code",
      "source": [
        "name = \"Alice\"\n",
        "print(name)"
      ],
      "metadata": {
        "id": "uVH8sPYPyHdD"
      },
      "execution_count": null,
      "outputs": []
    },
    {
      "cell_type": "markdown",
      "source": [
        "2. Write a code to find the length of the string \"Hello World\"."
      ],
      "metadata": {
        "id": "2IeNtLsex6yT"
      }
    },
    {
      "cell_type": "code",
      "source": [
        "s = \"Hello World\"\n",
        "length = len(s)\n",
        "print(length)"
      ],
      "metadata": {
        "id": "4aTZsIM1yJmQ"
      },
      "execution_count": null,
      "outputs": []
    },
    {
      "cell_type": "markdown",
      "source": [
        "3. Write a code to slice the first 3 characters from the string \"Python Programming\"."
      ],
      "metadata": {
        "id": "ldiENIKQyJGx"
      }
    },
    {
      "cell_type": "code",
      "source": [
        "s = \"Python Programming\"\n",
        "sliced_s = s[:3]\n",
        "print(sliced_s)"
      ],
      "metadata": {
        "id": "Ko1UwNx8yPrH"
      },
      "execution_count": null,
      "outputs": []
    },
    {
      "cell_type": "markdown",
      "source": [
        "4. Write a code to convert the string \"hello\" to uppercase."
      ],
      "metadata": {
        "id": "2m4-HbEyySev"
      }
    },
    {
      "cell_type": "code",
      "source": [
        "s = \"hello\"\n",
        "upper_s = s.upper()\n",
        "print(upper_s)"
      ],
      "metadata": {
        "id": "vMBDbfwOyZeL"
      },
      "execution_count": null,
      "outputs": []
    },
    {
      "cell_type": "markdown",
      "source": [
        "5. Write a code to replace the word \"apple\" with \"orange\" in the string \"I like apple\"."
      ],
      "metadata": {
        "id": "IqytvbE3yaUZ"
      }
    },
    {
      "cell_type": "code",
      "source": [
        "s = \"I like apple\"\n",
        "new_s = s.replace(\"apple\", \"orange\")\n",
        "print(new_s)"
      ],
      "metadata": {
        "id": "y8tYUP_3yde_"
      },
      "execution_count": null,
      "outputs": []
    },
    {
      "cell_type": "markdown",
      "source": [
        "6. Write a code to create a list with numbers 1 to 5 and print it."
      ],
      "metadata": {
        "id": "kjCvvKAsyhNg"
      }
    },
    {
      "cell_type": "code",
      "source": [
        "my_list = [1, 2, 3, 4, 5]\n",
        "print(my_list)"
      ],
      "metadata": {
        "id": "G0w_kvkMykCz"
      },
      "execution_count": null,
      "outputs": []
    },
    {
      "cell_type": "markdown",
      "source": [
        "7. Write a code to append the number 10 to the list [1, 2, 3, 4]."
      ],
      "metadata": {
        "id": "AcyxkUVrynEG"
      }
    },
    {
      "cell_type": "code",
      "source": [
        "my_list = [1, 2, 3, 4]\n",
        "my_list.append(10)\n",
        "print(my_list)"
      ],
      "metadata": {
        "id": "XTO-y3vBytGz"
      },
      "execution_count": null,
      "outputs": []
    },
    {
      "cell_type": "markdown",
      "source": [
        "8. Write a code to remove the number 3 from the list [1, 2, 3, 4, 5]."
      ],
      "metadata": {
        "id": "YebogijuyvXn"
      }
    },
    {
      "cell_type": "code",
      "source": [
        "my_list = [1, 2, 3, 4, 5]\n",
        "my_list.remove(3)\n",
        "print(my_list)"
      ],
      "metadata": {
        "id": "92TyD9sHyxqP"
      },
      "execution_count": null,
      "outputs": []
    },
    {
      "cell_type": "markdown",
      "source": [
        "9. Write a code to access the second element in the list ['a', 'b', 'c', 'd']."
      ],
      "metadata": {
        "id": "2s3uW_jjy1K6"
      }
    },
    {
      "cell_type": "code",
      "source": [
        "my_list = ['a', 'b', 'c', 'd']\n",
        "second_element = my_list[1]\n",
        "print(second_element)"
      ],
      "metadata": {
        "id": "jkCX7xayy3mZ"
      },
      "execution_count": null,
      "outputs": []
    },
    {
      "cell_type": "markdown",
      "source": [
        "10. Write a code to reverse the list [10, 20, 30, 40, 50]."
      ],
      "metadata": {
        "id": "h-sl8s68y6xP"
      }
    },
    {
      "cell_type": "code",
      "source": [
        "my_list = [10, 20, 30, 40, 50]\n",
        "my_list.reverse()\n",
        "print(my_list)"
      ],
      "metadata": {
        "id": "jbFxNCfOy9Re"
      },
      "execution_count": null,
      "outputs": []
    },
    {
      "cell_type": "markdown",
      "source": [
        "11. Write a code to create a tuple with the elements 100, 200, 300 and print it."
      ],
      "metadata": {
        "id": "5TUFF_TbzAFT"
      }
    },
    {
      "cell_type": "code",
      "source": [
        "my_tuple = (100, 200, 300)\n",
        "print(my_tuple)"
      ],
      "metadata": {
        "id": "qaaLntiNzS2f"
      },
      "execution_count": null,
      "outputs": []
    },
    {
      "cell_type": "markdown",
      "source": [
        "12. Write a code to access the second-to-last element of the tuple ('red', 'green', 'blue', 'yellow')."
      ],
      "metadata": {
        "id": "wLJ9pFAhzU2N"
      }
    },
    {
      "cell_type": "code",
      "source": [
        "my_tuple = ('red', 'green', 'blue', 'yellow')\n",
        "element = my_tuple[-2]\n",
        "print(element)"
      ],
      "metadata": {
        "id": "Yr9YcmfYzXSD"
      },
      "execution_count": null,
      "outputs": []
    },
    {
      "cell_type": "markdown",
      "source": [
        "13. Write a code to find the minimum number in the tuple (10, 20, 5, 15)."
      ],
      "metadata": {
        "id": "kjVNCssGzZ6c"
      }
    },
    {
      "cell_type": "code",
      "source": [
        "my_tuple = (10, 20, 5, 15)\n",
        "min_number = min(my_tuple)\n",
        "print(min_number)"
      ],
      "metadata": {
        "id": "uhYaB8eXzdFF"
      },
      "execution_count": null,
      "outputs": []
    },
    {
      "cell_type": "markdown",
      "source": [
        "14. Write a code to find the index of the element \"cat\" in the tuple ('dog', 'cat', 'rabbit')."
      ],
      "metadata": {
        "id": "lBmAaYGYzfcS"
      }
    },
    {
      "cell_type": "code",
      "source": [
        "my_tuple = ('dog', 'cat', 'rabbit')\n",
        "index = my_tuple.index('cat')\n",
        "print(index)"
      ],
      "metadata": {
        "id": "MKdKatGfzmY2"
      },
      "execution_count": null,
      "outputs": []
    },
    {
      "cell_type": "markdown",
      "source": [
        "15. Write a code to create a tuple containing three different fruits and check if \"kiwi\" is in it."
      ],
      "metadata": {
        "id": "JdjU6_5DzpQi"
      }
    },
    {
      "cell_type": "code",
      "source": [
        "fruits = ('apple', 'banana', 'orange')\n",
        "if \"kiwi\" in fruits:\n",
        "    print(\"Kiwi is in the tuple.\")\n",
        "else:\n",
        "    print(\"Kiwi is not in the tuple.\")"
      ],
      "metadata": {
        "id": "ZdHve7cwzr6-"
      },
      "execution_count": null,
      "outputs": []
    },
    {
      "cell_type": "markdown",
      "source": [
        "16. Write a code to create a set with the elements 'a', 'b', 'c' and print it."
      ],
      "metadata": {
        "id": "DvyzNZMSzu-p"
      }
    },
    {
      "cell_type": "code",
      "source": [
        "my_set = {'a', 'b', 'c'}\n",
        "print(my_set)"
      ],
      "metadata": {
        "id": "GazAnrFxzxbv"
      },
      "execution_count": null,
      "outputs": []
    },
    {
      "cell_type": "markdown",
      "source": [
        "17. Write a code to clear all elements from the set {1, 2, 3, 4, 5}."
      ],
      "metadata": {
        "id": "maNrfkbMzz_P"
      }
    },
    {
      "cell_type": "code",
      "source": [
        "my_set = {1, 2, 3, 4, 5}\n",
        "my_set.clear()\n",
        "print(my_set)"
      ],
      "metadata": {
        "id": "YtQU6ensz5KH"
      },
      "execution_count": null,
      "outputs": []
    },
    {
      "cell_type": "markdown",
      "source": [
        "18. Write a code to remove the element 4 from the set {1, 2, 3, 4}."
      ],
      "metadata": {
        "id": "4Q-1r8Vhz79M"
      }
    },
    {
      "cell_type": "code",
      "source": [
        "my_set = {1, 2, 3, 4}\n",
        "my_set.remove(4)\n",
        "print(my_set)"
      ],
      "metadata": {
        "id": "UjX5AN5w0C35"
      },
      "execution_count": null,
      "outputs": []
    },
    {
      "cell_type": "markdown",
      "source": [
        "19. Write a code to find the union of two sets {1, 2, 3} and {3, 4, 5}."
      ],
      "metadata": {
        "id": "-IGI3f4r0EbQ"
      }
    },
    {
      "cell_type": "code",
      "source": [
        "set1 = {1, 2, 3}\n",
        "set2 = {3, 4, 5}\n",
        "union_set = set1.union(set2)\n",
        "print(union_set)"
      ],
      "metadata": {
        "id": "WW8xfxX70GeE"
      },
      "execution_count": null,
      "outputs": []
    },
    {
      "cell_type": "markdown",
      "source": [
        "20. Write a code to find the intersection of two sets {1, 2, 3} and {2, 3, 4}."
      ],
      "metadata": {
        "id": "fG85so_x0I8H"
      }
    },
    {
      "cell_type": "code",
      "source": [
        "set1 = {1, 2, 3}\n",
        "set2 = {2, 3, 4}\n",
        "intersection_set = set1.intersection(set2)\n",
        "print(intersection_set)"
      ],
      "metadata": {
        "id": "353QZmAj0LvU"
      },
      "execution_count": null,
      "outputs": []
    },
    {
      "cell_type": "markdown",
      "source": [
        "21. Write a code to create a dictionary with the keys \"name\", \"age\", and \"city\", and print it.\n"
      ],
      "metadata": {
        "id": "p8aQl4cQ0OF-"
      }
    },
    {
      "cell_type": "code",
      "source": [
        "my_dict = {\"name\": \"John\", \"age\": 30, \"city\": \"New York\"}\n",
        "print(my_dict)"
      ],
      "metadata": {
        "id": "rsJ_NEBo0WXH"
      },
      "execution_count": null,
      "outputs": []
    },
    {
      "cell_type": "markdown",
      "source": [
        "22. Write a code to add a new key-value pair \"country\": \"USA\" to the dictionary {'name': 'John', 'age': 25}."
      ],
      "metadata": {
        "id": "k1NGx0eF0YpO"
      }
    },
    {
      "cell_type": "code",
      "source": [
        "my_dict = {'name': 'John', 'age': 25}\n",
        "my_dict[\"country\"] = \"USA\"\n",
        "print(my_dict)"
      ],
      "metadata": {
        "id": "uAf4AFEl0cNo"
      },
      "execution_count": null,
      "outputs": []
    },
    {
      "cell_type": "markdown",
      "source": [
        "23. Write a code to access the value associated with the key \"name\" in the dictionary {'name': 'Alice', 'age': 30}."
      ],
      "metadata": {
        "id": "gbUKNDe90ebW"
      }
    },
    {
      "cell_type": "code",
      "source": [
        "my_dict = {'name': 'Alice', 'age': 30}\n",
        "name_value = my_dict[\"name\"]\n",
        "print(name_value)"
      ],
      "metadata": {
        "id": "QSMmtTi30h_2"
      },
      "execution_count": null,
      "outputs": []
    },
    {
      "cell_type": "markdown",
      "source": [
        "24. Write a code to remove the key \"age\" from the dictionary {'name': 'Bob', 'age': 22, 'city': 'New York'}."
      ],
      "metadata": {
        "id": "gyDpdeaG0kQ9"
      }
    },
    {
      "cell_type": "code",
      "source": [
        "my_dict = {'name': 'Bob', 'age': 22, 'city': 'New York'}\n",
        "del my_dict[\"age\"]\n",
        "print(my_dict)"
      ],
      "metadata": {
        "id": "a_q9XcIK0nCp"
      },
      "execution_count": null,
      "outputs": []
    },
    {
      "cell_type": "markdown",
      "source": [
        "25. Write a code to check if the key \"city\" exists in the dictionary {'name': 'Alice', 'city': 'Paris'}."
      ],
      "metadata": {
        "id": "iWowRA0P0pMi"
      }
    },
    {
      "cell_type": "code",
      "source": [
        "my_dict = {'name': 'Alice', 'city': 'Paris'}\n",
        "if \"city\" in my_dict:\n",
        "    print(\"The key 'city' exists in the dictionary.\")\n",
        "else:\n",
        "    print(\"The key 'city' does not exist in the dictionary.\")"
      ],
      "metadata": {
        "id": "MM7P4NiA0srX"
      },
      "execution_count": null,
      "outputs": []
    },
    {
      "cell_type": "markdown",
      "source": [
        "26. Write a code to create a list, a tuple, and a dictionary, and print them all."
      ],
      "metadata": {
        "id": "BqbULHGk0wEd"
      }
    },
    {
      "cell_type": "code",
      "source": [
        "my_list = [1, 2, 3]\n",
        "my_tuple = (10, 20, 30)\n",
        "my_dict = {\"a\": 1, \"b\": 2}\n",
        "print(f\"List: {my_list}\")\n",
        "print(f\"Tuple: {my_tuple}\")\n",
        "print(f\"Dictionary: {my_dict}\")"
      ],
      "metadata": {
        "id": "3tG5E7LT0zOF"
      },
      "execution_count": null,
      "outputs": []
    },
    {
      "cell_type": "markdown",
      "source": [
        "27. Write a code to create a list of 5 random numbers between 1 and 100, sort it in ascending order, and print the result.(replaced)"
      ],
      "metadata": {
        "id": "uhJqO3mL02Ko"
      }
    },
    {
      "cell_type": "code",
      "source": [
        "import random\n",
        "\n",
        "random_numbers = [random.randint(1, 100) for _ in range(5)]\n",
        "random_numbers.sort()\n",
        "print(random_numbers)"
      ],
      "metadata": {
        "id": "Fp3EzXE209QN"
      },
      "execution_count": null,
      "outputs": []
    },
    {
      "cell_type": "markdown",
      "source": [
        "28. Write a code to create a list with strings and print the element at the third index."
      ],
      "metadata": {
        "id": "oGK4w2rM1Aqn"
      }
    },
    {
      "cell_type": "code",
      "source": [
        "my_list = [\"apple\", \"banana\", \"cherry\", \"date\"]\n",
        "third_element = my_list[2]\n",
        "print(third_element)"
      ],
      "metadata": {
        "id": "lZQcDnIM1EMO"
      },
      "execution_count": null,
      "outputs": []
    },
    {
      "cell_type": "markdown",
      "source": [
        "29. Write a code to combine two dictionaries into one and print the result."
      ],
      "metadata": {
        "id": "ClPW07Il1HED"
      }
    },
    {
      "cell_type": "code",
      "source": [
        "dict1 = {'a': 1, 'b': 2}\n",
        "dict2 = {'c': 3, 'd': 4}\n",
        "combined_dict = {**dict1, **dict2}\n",
        "print(combined_dict)"
      ],
      "metadata": {
        "id": "llhCx-Kl1KM1"
      },
      "execution_count": null,
      "outputs": []
    },
    {
      "cell_type": "markdown",
      "source": [
        "30. Write a code to convert a list of strings into a set."
      ],
      "metadata": {
        "id": "xsM6jk-P1Mqf"
      }
    },
    {
      "cell_type": "code",
      "source": [
        "my_list = [\"apple\", \"banana\", \"apple\", \"cherry\"]\n",
        "my_set = set(my_list)\n",
        "print(my_set)"
      ],
      "metadata": {
        "id": "jEKHB-PM1P79"
      },
      "execution_count": null,
      "outputs": []
    }
  ]
}