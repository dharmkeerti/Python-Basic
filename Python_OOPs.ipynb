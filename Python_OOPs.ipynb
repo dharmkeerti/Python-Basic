{
  "nbformat": 4,
  "nbformat_minor": 0,
  "metadata": {
    "colab": {
      "provenance": []
    },
    "kernelspec": {
      "name": "python3",
      "display_name": "Python 3"
    },
    "language_info": {
      "name": "python"
    }
  },
  "cells": [
    {
      "cell_type": "markdown",
      "source": [
        "# Python OOPs Solutions"
      ],
      "metadata": {
        "id": "MIQ0jwZqI9SU"
      }
    },
    {
      "cell_type": "markdown",
      "source": [
        "1. What is Object-Oriented Programming (OOP)?\n",
        "- OOP is a programming paradigm based on the concept of \"objects,\" which can contain data (attributes) and code (methods). It organizes software design around data rather than functions and logic.\n",
        "\n",
        "2. What is a class in OOP?\n",
        "- A class is a blueprint, template, or prototype for creating objects. It defines a set of attributes (data/variables) and methods (functions) that all objects created from the class will possess.\n",
        "\n",
        "3. What is an object in OOP?\n",
        "- An object is a specific instance of a class. It is a concrete entity created from the class blueprint, having actual data stored in its attributes and defined behaviors through its methods.\n",
        "\n",
        "4. What is the difference between abstraction and encapsulation?\n",
        "- Abstraction focuses on showing only essential information and hiding the complex implementation details from the user (e.g., how a method works internally).\n",
        "\n",
        "- Encapsulation focuses on bundling data (attributes) and the methods that operate on that data into a single unit (the class). It often involves restricting direct access to data.\n",
        "\n",
        "5. What are dunder methods in Python?\n",
        "- Dunder methods (Double UNDERSCORE methods) are special methods with leading and trailing double underscores (e.g., __init__, __str__). They allow classes to emulate the behavior of built-in types and operators, enabling features like customized object initialization, string representation, and operator behavior (e.g., +, ==).\n",
        "\n",
        "6. Explain the concept of inheritance in OOPH.\n",
        "- Inheritance is a mechanism where a new class (the child or derived class) inherits properties (attributes and methods) from an existing class (the parent or base class). It promotes code reuse and establishes an \"is-a\" relationship.\n",
        "\n",
        "7. What is polymorphism in OOP?\n",
        "- Polymorphism means \"many forms.\" In OOP, it allows methods to do different things based on the object they are acting upon. The most common form in Python is method overriding (different classes share a method name but implement it differently).\n",
        "\n",
        "8. How is encapsulation achieved in Python?\n",
        "- Encapsulation is achieved by defining methods that control access to attributes. While Python doesn't enforce strict private members like Java, it uses name mangling (prepending a double underscore, e.g., __secret_data) to conventionally restrict direct access and signal that an attribute should be treated as private.\n",
        "\n",
        "9. What is a constructor in Python?\n",
        "- A constructor is a special method named __init__ that is automatically called when a new object is created (instantiated) from a class. Its primary purpose is to initialize the object's attributes.\n",
        "\n",
        "10. What are class and static methods in Python?\n",
        "- A class method is bound to the class and receives the class itself as the first argument, conventionally named cls (decorated with @classmethod). It's often used as an alternative constructor.\n",
        "\n",
        "- A static method is a function defined within a class but has no access to the instance or the class (decorated with @staticmethod). It behaves like a regular function but is logically grouped with the class.\n",
        "\n",
        "11. What is method overloading in Python?\n",
        "- Method overloading is the ability to define multiple methods within the same class with the same name but different numbers or types of parameters. Python does not support true method overloading; only the last defined method with a given name will be recognized. Developers use default arguments or *args/**kwargs to achieve similar flexibility.\n",
        "\n",
        "12. What is method overriding in OOP?\n",
        "- Method overriding occurs when a child class provides a specific implementation for a method that is already defined in its parent class. This allows a subclass to change or extend the behavior of an inherited method.\n",
        "\n",
        "13. What is a property decorator in Python?\n",
        "- The @property decorator is used to define a method that can be accessed like an attribute. It allows you to getter, setter, and deleter methods for attributes, providing controlled access without forcing the user to call explicit methods.\n",
        "\n",
        "14. Why is polymorphism important in OOP?\n",
        "- Polymorphism is important because it allows for flexible and dynamic code. It enables common interfaces for different data types (e.g., a draw() method works on both a Square object and a Circle object), reducing conditional statements and making the code extensible and easier to maintain.\n",
        "\n",
        "15. What is an abstract class in Python?\n",
        "- An abstract class is a class that cannot be instantiated (you cannot create an object from it). It is designed to be a blueprint for other classes, often containing one or more abstract methods (methods declared but not implemented). It is defined using the abc module (ABC class and @abstractmethod).\n",
        "\n",
        "16. What are the advantages of OOP?\n",
        "- Reusability: Inheritance allows code reuse.\n",
        "- Maintainability: Easier to manage and modify code.\n",
        "- Security: Encapsulation protects data.\n",
        "- Flexibility: Polymorphism allows generic code structures.\n",
        "- Simplicity: Abstraction reduces complexity.\n",
        "\n",
        "17. What is the difference between a class variable and an instance variable?\n",
        "- A class variable is declared inside the class but outside any method. It is shared by all instances of the class and is usually accessed via the class name.\n",
        "\n",
        "- An instance variable is declared inside a method (usually __init__) and is unique to each specific instance of the class.\n",
        "\n",
        "18. What is multiple inheritance in Python?\n",
        "- Multiple inheritance is when a class can inherit properties and methods from more than one parent class. Python supports this, but it can lead to complexity (the \"Diamond Problem\"), which Python resolves using the Method Resolution Order (MRO).\n",
        "\n",
        "19. Explain the purpose of ‘’__str__’ and ‘__repr__’ ‘ methods in Python.\n",
        "- __str__: Used to provide a human-readable, informal string representation of an object, primarily for end-user display (e.g., when using print()).\n",
        "\n",
        "- __repr__: Used to provide an official, detailed string representation that is primarily for developers and should be unambiguous (ideally, it should look like valid Python code to recreate the object).\n",
        "\n",
        "20. What is the significance of the ‘super()’ function in Python?\n",
        "- The super() function is used inside a child class's method (especially __init__) to call a corresponding method from its immediate parent class. This is crucial for correctly initializing inherited attributes and accessing overridden methods.\n",
        "\n",
        "21. What is the significance of the __del__ method in Python?\n",
        "- The __del__ method, or destructor, is a dunder method that is called when an object's reference count drops to zero and the object is about to be garbage collected (destroyed). It's used for cleanup activities like closing file connections or releasing external resources.\n",
        "\n",
        "22. What is the difference between @staticmethod and @classmethod in Python?\n",
        "- @staticmethod: Doesn’t take self or cls; used for utility functions that don’t access class or instance data.\n",
        "\n",
        "- @classmethod: Takes cls as the first parameter; used to access or modify class-level attributes.\n",
        "\n",
        "23. How does polymorphism work in Python with inheritance?\n",
        "- Polymorphism works through method overriding. When a method is called on an object, Python checks the object's class first. If the method is found, it's executed. If not, it checks the parent class, and so on (up the inheritance chain). This ensures the most specialized (child class) version of a method is executed.\n",
        "\n",
        "24. What is method chaining in Python OOP?\n",
        "- Method chaining is a technique where multiple methods are called sequentially on the same object, with each method call returning the object itself (return self). This creates a fluent interface where code can be written concisely in a single line.\n",
        "\n",
        "25. What is the purpose of the __call__ method in Python?\n",
        "- The __call__ method allows an instance of a class to be treated and invoked as if it were a function. If this method is defined, you can call the object using parentheses (()). This turns the object into a callable instance."
      ],
      "metadata": {
        "id": "wRkrY77_pi6p"
      }
    },
    {
      "cell_type": "markdown",
      "source": [
        "# Practical Solutions"
      ],
      "metadata": {
        "id": "3RvF_mEavGmj"
      }
    },
    {
      "cell_type": "markdown",
      "source": [
        "1. Create a parent class Animal with a method speak() that prints a generic message. Create a child class Dog that overrides the speak() method to print \"Bark!\"."
      ],
      "metadata": {
        "id": "-k0gsiFIvTw0"
      }
    },
    {
      "cell_type": "code",
      "execution_count": null,
      "metadata": {
        "id": "JbIeDj9DI4W2"
      },
      "outputs": [],
      "source": [
        "class Animal:\n",
        "    def speak(self):\n",
        "        \"\"\"Generic speak method for an animal.\"\"\"\n",
        "        print(\"A generic animal sound.\")\n",
        "\n",
        "class Dog(Animal):\n",
        "    def speak(self):\n",
        "        \"\"\"Overrides the speak method to print 'Bark!'.\"\"\"\n",
        "        print(\"Bark!\")\n",
        "\n",
        "# Demonstration\n",
        "generic_animal = Animal()\n",
        "my_dog = Dog()\n",
        "generic_animal.speak()\n",
        "my_dog.speak()"
      ]
    },
    {
      "cell_type": "markdown",
      "source": [
        "2. Write a program to create an abstract class Shape with a method area(). Derive classes Circle and Rectangle from it and implement the area() method in both."
      ],
      "metadata": {
        "id": "TyqaYMqHvDP1"
      }
    },
    {
      "cell_type": "code",
      "source": [
        "from abc import ABC, abstractmethod\n",
        "\n",
        "class Shape(ABC):\n",
        "    @abstractmethod\n",
        "    def area(self):\n",
        "        \"\"\"Abstract method to calculate the area.\"\"\"\n",
        "        pass\n",
        "\n",
        "class Circle(Shape):\n",
        "    def __init__(self, radius):\n",
        "        self.radius = radius\n",
        "\n",
        "    def area(self):\n",
        "        \"\"\"Implements area for a Circle.\"\"\"\n",
        "        return 3.14159 * self.radius ** 2\n",
        "\n",
        "class Rectangle(Shape):\n",
        "    def __init__(self, length, width):\n",
        "        self.length = length\n",
        "        self.width = width\n",
        "\n",
        "    def area(self):\n",
        "        \"\"\"Implements area for a Rectangle.\"\"\"\n",
        "        return self.length * self.width\n",
        "\n",
        "# Demonstration\n",
        "circle = Circle(5)\n",
        "rectangle = Rectangle(4, 6)\n",
        "print(f\"Circle Area: {circle.area()}\")\n",
        "print(f\"Rectangle Area: {rectangle.area()}\")"
      ],
      "metadata": {
        "id": "q3lt6-zlvhAh"
      },
      "execution_count": null,
      "outputs": []
    },
    {
      "cell_type": "markdown",
      "source": [
        "3. Implement a multi-level inheritance scenario where a class Vehicle has an attribute type. Derive a class Car and further derive a class Electric Car that adds a battery attribute."
      ],
      "metadata": {
        "id": "GjgwEqVevlFc"
      }
    },
    {
      "cell_type": "code",
      "source": [
        "class Vehicle:\n",
        "    def __init__(self, vehicle_type):\n",
        "        self.type = vehicle_type\n",
        "\n",
        "class Car(Vehicle):\n",
        "    def __init__(self, make, model):\n",
        "        super().__init__(\"Car\")\n",
        "        self.make = make\n",
        "        self.model = model\n",
        "\n",
        "class ElectricCar(Car):\n",
        "    def __init__(self, make, model, battery_capacity):\n",
        "        super().__init__(make, model)\n",
        "        self.battery = battery_capacity\n",
        "\n",
        "# Demonstration\n",
        "tesla = ElectricCar(\"Tesla\", \"Model 3\", \"75 kWh\")\n",
        "print(f\"Type: {tesla.type}, Model: {tesla.model}, Battery: {tesla.battery}\")"
      ],
      "metadata": {
        "id": "rYVGjY9wvobO"
      },
      "execution_count": null,
      "outputs": []
    },
    {
      "cell_type": "markdown",
      "source": [
        "4. Demonstrate polymorphism by creating a base class Bird with a method fly(). Create two derived classes Sparrow and Penguin that override the fly() method."
      ],
      "metadata": {
        "id": "Q_6gh1AbvrnP"
      }
    },
    {
      "cell_type": "code",
      "source": [
        "class Bird:\n",
        "    def fly(self):\n",
        "        \"\"\"Generic flying behavior.\"\"\"\n",
        "        print(\"The bird flies through the air.\")\n",
        "\n",
        "class Sparrow(Bird):\n",
        "    def fly(self):\n",
        "        \"\"\"Sparrows fly short distances quickly.\"\"\"\n",
        "        print(\"Sparrow is fluttering its wings.\")\n",
        "\n",
        "class Penguin(Bird):\n",
        "    def fly(self):\n",
        "        \"\"\"Penguins cannot fly; they swim.\"\"\"\n",
        "        print(\"Penguin can't fly, but it swims fast!\")\n",
        "\n",
        "# Demonstration\n",
        "def make_bird_fly(bird):\n",
        "    bird.fly()\n",
        "\n",
        "sparrow = Sparrow()\n",
        "penguin = Penguin()\n",
        "\n",
        "make_bird_fly(sparrow)\n",
        "make_bird_fly(penguin)"
      ],
      "metadata": {
        "id": "z3w4Cn-cvvto"
      },
      "execution_count": null,
      "outputs": []
    },
    {
      "cell_type": "markdown",
      "source": [
        "5. Write a program to demonstrate encapsulation by creating a class BankAccount with private attributes balance and methods to deposit, withdraw, and check balance."
      ],
      "metadata": {
        "id": "JLLhYv53v4k1"
      }
    },
    {
      "cell_type": "code",
      "source": [
        "class BankAccount:\n",
        "    def __init__(self, initial_balance):\n",
        "        # Private attribute using name mangling convention\n",
        "        self.__balance = initial_balance\n",
        "\n",
        "    def deposit(self, amount):\n",
        "        if amount > 0:\n",
        "            self.__balance += amount\n",
        "            print(f\"Deposited ${amount}. New balance: ${self.__balance}\")\n",
        "        else:\n",
        "            print(\"Deposit amount must be positive.\")\n",
        "\n",
        "    def withdraw(self, amount):\n",
        "        if 0 < amount <= self.__balance:\n",
        "            self.__balance -= amount\n",
        "            print(f\"Withdrew ${amount}. New balance: ${self.__balance}\")\n",
        "        else:\n",
        "            print(\"Invalid withdrawal amount or insufficient funds.\")\n",
        "\n",
        "    def check_balance(self):\n",
        "        print(f\"Current balance: ${self.__balance}\")\n",
        "\n",
        "# Demonstration\n",
        "account = BankAccount(1000)\n",
        "account.deposit(500)\n",
        "account.withdraw(200)\n",
        "account.check_balance()\n",
        "\n",
        "# Attempting direct access (will cause error or access mangled name)\n",
        "# print(account.__balance)"
      ],
      "metadata": {
        "id": "mZQOkHY8v5Xh"
      },
      "execution_count": null,
      "outputs": []
    },
    {
      "cell_type": "markdown",
      "source": [
        "6. Demonstrate runtime polymorphism using a method play() in a base class Instrument. Derive classes Guitar and Piano that implement their own version of play()."
      ],
      "metadata": {
        "id": "szg1TBuswAhI"
      }
    },
    {
      "cell_type": "code",
      "source": [
        "class Instrument:\n",
        "    def play(self):\n",
        "        \"\"\"Base method for playing an instrument.\"\"\"\n",
        "        raise NotImplementedError(\"Subclass must implement abstract method\")\n",
        "\n",
        "class Guitar(Instrument):\n",
        "    def play(self):\n",
        "        \"\"\"Guitar-specific play method.\"\"\"\n",
        "        print(\"Strumming the guitar.\")\n",
        "\n",
        "class Piano(Instrument):\n",
        "    def play(self):\n",
        "        \"\"\"Piano-specific play method.\"\"\"\n",
        "        print(\"Pressing the piano keys.\")\n",
        "\n",
        "# Demonstration\n",
        "def perform(instrument):\n",
        "    instrument.play()\n",
        "\n",
        "guitar = Guitar()\n",
        "piano = Piano()\n",
        "\n",
        "perform(guitar)\n",
        "perform(piano)"
      ],
      "metadata": {
        "id": "ZbkbIur4wDmE"
      },
      "execution_count": null,
      "outputs": []
    },
    {
      "cell_type": "markdown",
      "source": [
        "7. Create a class Math Operations with a class method add_numbers() to add two numbers and a static method subtract_numbers() to subtract two numbers."
      ],
      "metadata": {
        "id": "pJfkd04RwLHR"
      }
    },
    {
      "cell_type": "code",
      "source": [
        "class MathOperations:\n",
        "\n",
        "    @classmethod\n",
        "    def add_numbers(cls, a, b):\n",
        "        \"\"\"Class method to add two numbers.\"\"\"\n",
        "        print(f\"Using class method to add {a} and {b}.\")\n",
        "        return a + b\n",
        "\n",
        "    @staticmethod\n",
        "    def subtract_numbers(a, b):\n",
        "        \"\"\"Static method to subtract two numbers.\"\"\"\n",
        "        print(f\"Using static method to subtract {b} from {a}.\")\n",
        "        return a - b\n",
        "\n",
        "# Demonstration\n",
        "sum_result = MathOperations.add_numbers(10, 5)\n",
        "diff_result = MathOperations.subtract_numbers(10, 5)\n",
        "\n",
        "print(f\"Sum: {sum_result}\")\n",
        "print(f\"Difference: {diff_result}\")"
      ],
      "metadata": {
        "id": "hcieTz4KwLuv"
      },
      "execution_count": null,
      "outputs": []
    },
    {
      "cell_type": "markdown",
      "source": [
        "8. Implement a class Person with a class method to count the total number of persons created."
      ],
      "metadata": {
        "id": "P4YArZrfwOBS"
      }
    },
    {
      "cell_type": "code",
      "source": [
        "class Person:\n",
        "    # Class variable to keep track of the count\n",
        "    person_count = 0\n",
        "\n",
        "    def __init__(self, name):\n",
        "        self.name = name\n",
        "        Person.person_count += 1\n",
        "\n",
        "    @classmethod\n",
        "    def count_persons(cls):\n",
        "        \"\"\"Class method to return the total number of Person instances.\"\"\"\n",
        "        return cls.person_count\n",
        "\n",
        "# Demonstration\n",
        "p1 = Person(\"Alice\")\n",
        "p2 = Person(\"Bob\")\n",
        "p3 = Person(\"Charlie\")\n",
        "\n",
        "print(f\"Total number of persons created: {Person.count_persons()}\")"
      ],
      "metadata": {
        "id": "OokoyYi6wQsh"
      },
      "execution_count": null,
      "outputs": []
    },
    {
      "cell_type": "markdown",
      "source": [
        "9. Write a class Fraction with attributes numerator and denominator. Override the str method to display the fraction as \"numerator/denominator\"."
      ],
      "metadata": {
        "id": "D9xkr9vewSyO"
      }
    },
    {
      "cell_type": "code",
      "source": [
        "class Fraction:\n",
        "    def __init__(self, numerator, denominator):\n",
        "        self.numerator = numerator\n",
        "        self.denominator = denominator\n",
        "\n",
        "    def __str__(self):\n",
        "        \"\"\"Overrides the standard string representation.\"\"\"\n",
        "        return f\"{self.numerator}/{self.denominator}\"\n",
        "\n",
        "# Demonstration\n",
        "f = Fraction(3, 4)\n",
        "print(f\"The fraction is: {f}\")"
      ],
      "metadata": {
        "id": "HUtLIuUFwVlN"
      },
      "execution_count": null,
      "outputs": []
    },
    {
      "cell_type": "markdown",
      "source": [
        "10. Demonstrate operator overloading by creating a class Vector and overriding the add method to add two vectors."
      ],
      "metadata": {
        "id": "RqeLl7w-wajU"
      }
    },
    {
      "cell_type": "code",
      "source": [
        "class Vector:\n",
        "    def __init__(self, x, y):\n",
        "        self.x = x\n",
        "        self.y = y\n",
        "\n",
        "    def __add__(self, other):\n",
        "        \"\"\"Overrides the '+' operator to add two Vector objects.\"\"\"\n",
        "        new_x = self.x + other.x\n",
        "        new_y = self.y + other.y\n",
        "        return Vector(new_x, new_y)\n",
        "\n",
        "    def __str__(self):\n",
        "        return f\"Vector({self.x}, {self.y})\"\n",
        "\n",
        "# Demonstration\n",
        "v1 = Vector(2, 3)\n",
        "v2 = Vector(5, 7)\n",
        "v3 = v1 + v2 # Calls v1.__add__(v2)\n",
        "\n",
        "print(f\"V1: {v1}\")\n",
        "print(f\"V2: {v2}\")\n",
        "print(f\"V1 + V2: {v3}\")"
      ],
      "metadata": {
        "id": "ESb1mvpcwdsn"
      },
      "execution_count": null,
      "outputs": []
    },
    {
      "cell_type": "markdown",
      "source": [
        "11. Create a class Person with attributes name and age. Add a method greet() that prints \"Hello, my name is {name} and I am {age} years old.\""
      ],
      "metadata": {
        "id": "0dEtJiPNwfzN"
      }
    },
    {
      "cell_type": "code",
      "source": [
        "class Person:\n",
        "    def __init__(self, name, age):\n",
        "        self.name = name\n",
        "        self.age = age\n",
        "\n",
        "    def greet(self):\n",
        "        \"\"\"Prints a personalized greeting.\"\"\"\n",
        "        print(f\"Hello, my name is {self.name} and I am {self.age} years old.\")\n",
        "\n",
        "# Demonstration\n",
        "p = Person(\"Mia\", 28)\n",
        "p.greet()"
      ],
      "metadata": {
        "id": "i-DTOJsZwiPZ"
      },
      "execution_count": null,
      "outputs": []
    },
    {
      "cell_type": "markdown",
      "source": [
        "12. Implement a class Student with attributes name and grades. Create a method average_grade() to compute the average of the grades."
      ],
      "metadata": {
        "id": "S2VqxVHuwlvc"
      }
    },
    {
      "cell_type": "code",
      "source": [
        "class Student:\n",
        "    def __init__(self, name, grades):\n",
        "        self.name = name\n",
        "        self.grades = grades\n",
        "\n",
        "    def average_grade(self):\n",
        "        \"\"\"Computes the average of the student's grades.\"\"\"\n",
        "        if not self.grades:\n",
        "            return 0\n",
        "        return sum(self.grades) / len(self.grades)\n",
        "\n",
        "# Demonstration\n",
        "s = Student(\"Alex\", [85, 90, 78, 92])\n",
        "print(f\"{s.name}'s average grade is: {s.average_grade():.2f}\")"
      ],
      "metadata": {
        "id": "cpiGmqxIw4cp"
      },
      "execution_count": null,
      "outputs": []
    },
    {
      "cell_type": "markdown",
      "source": [
        "13. Create a class Rectangle with methods set_dimensions() to set the dimensions and area() to calculate the area."
      ],
      "metadata": {
        "id": "VdEquDFGw6ze"
      }
    },
    {
      "cell_type": "code",
      "source": [
        "class Rectangle:\n",
        "    def __init__(self):\n",
        "        self.length = 0\n",
        "        self.width = 0\n",
        "\n",
        "    def set_dimensions(self, length, width):\n",
        "        \"\"\"Sets the length and width of the rectangle.\"\"\"\n",
        "        self.length = length\n",
        "        self.width = width\n",
        "\n",
        "    def area(self):\n",
        "        \"\"\"Calculates the area of the rectangle.\"\"\"\n",
        "        return self.length * self.width\n",
        "\n",
        "# Demonstration\n",
        "rect = Rectangle()\n",
        "rect.set_dimensions(12, 5)\n",
        "print(f\"Rectangle area: {rect.area()}\")"
      ],
      "metadata": {
        "id": "VrVXT9P8w-Vq"
      },
      "execution_count": null,
      "outputs": []
    },
    {
      "cell_type": "markdown",
      "source": [
        "14. Create a class Employee with a method calculate_salary() that computes the salary based on hours worked and hourly rate. Create a derived class Manager that adds a bonus to the salary."
      ],
      "metadata": {
        "id": "8s6yj_GyxElE"
      }
    },
    {
      "cell_type": "code",
      "source": [
        "class Employee:\n",
        "    def __init__(self, rate):\n",
        "        self.hourly_rate = rate\n",
        "\n",
        "    def calculate_salary(self, hours_worked):\n",
        "        \"\"\"Computes the basic salary.\"\"\"\n",
        "        return self.hourly_rate * hours_worked\n",
        "\n",
        "class Manager(Employee):\n",
        "    def __init__(self, rate, bonus):\n",
        "        super().__init__(rate)\n",
        "        self.bonus = bonus\n",
        "\n",
        "    def calculate_salary(self, hours_worked):\n",
        "        \"\"\"Overrides to include a fixed bonus.\"\"\"\n",
        "        base_salary = super().calculate_salary(hours_worked)\n",
        "        return base_salary + self.bonus\n",
        "\n",
        "# Demonstration\n",
        "e = Employee(25)\n",
        "m = Manager(30, 1000)\n",
        "\n",
        "print(f\"Employee salary (160h): ${e.calculate_salary(160)}\")\n",
        "print(f\"Manager salary (160h): ${m.calculate_salary(160)}\")"
      ],
      "metadata": {
        "id": "BvZYwBHfxGzN"
      },
      "execution_count": null,
      "outputs": []
    },
    {
      "cell_type": "markdown",
      "source": [
        "15. Create a class Product with attributes name, price, and quantity. Implement a method total_price() that calculates the total price of the product."
      ],
      "metadata": {
        "id": "Alr1vdS1xJXq"
      }
    },
    {
      "cell_type": "code",
      "source": [
        "class Product:\n",
        "    def __init__(self, name, price, quantity):\n",
        "        self.name = name\n",
        "        self.price = price\n",
        "        self.quantity = quantity\n",
        "\n",
        "    def total_price(self):\n",
        "        \"\"\"Calculates the total price (price * quantity).\"\"\"\n",
        "        return self.price * self.quantity\n",
        "\n",
        "# Demonstration\n",
        "p = Product(\"Laptop\", 1200.50, 2)\n",
        "print(f\"Total price for {p.name}: ${p.total_price():.2f}\")"
      ],
      "metadata": {
        "id": "6IBGvPUMxOM4"
      },
      "execution_count": null,
      "outputs": []
    },
    {
      "cell_type": "markdown",
      "source": [
        "16. Create a class Animal with an abstract method sound(). Create two derived classes Cow and Sheep that implement the sound() method."
      ],
      "metadata": {
        "id": "NF29OmR8xQwS"
      }
    },
    {
      "cell_type": "code",
      "source": [
        "from abc import ABC, abstractmethod\n",
        "\n",
        "class Animal(ABC):\n",
        "    @abstractmethod\n",
        "    def sound(self):\n",
        "        \"\"\"Abstract method for the animal's sound.\"\"\"\n",
        "        pass\n",
        "\n",
        "class Cow(Animal):\n",
        "    def sound(self):\n",
        "        \"\"\"Cow sound implementation.\"\"\"\n",
        "        return \"Moo\"\n",
        "\n",
        "class Sheep(Animal):\n",
        "    def sound(self):\n",
        "        \"\"\"Sheep sound implementation.\"\"\"\n",
        "        return \"Baa\"\n",
        "\n",
        "# Demonstration\n",
        "c = Cow()\n",
        "s = Sheep()\n",
        "print(f\"Cow says: {c.sound()}\")\n",
        "print(f\"Sheep says: {s.sound()}\")"
      ],
      "metadata": {
        "id": "4OHU7JjPxTbd"
      },
      "execution_count": null,
      "outputs": []
    },
    {
      "cell_type": "markdown",
      "source": [
        "17. Create a class Book with attributes title, author, and year_published. Add a method get_book_info() that returns a formatted string with the book's details."
      ],
      "metadata": {
        "id": "f7DoC9QDxV1N"
      }
    },
    {
      "cell_type": "code",
      "source": [
        "class Book:\n",
        "    def __init__(self, title, author, year_published):\n",
        "        self.title = title\n",
        "        self.author = author\n",
        "        self.year_published = year_published\n",
        "\n",
        "    def get_book_info(self):\n",
        "        \"\"\"Returns a formatted string of the book's details.\"\"\"\n",
        "        return f'\"{self.title}\" by {self.author} ({self.year_published})'\n",
        "\n",
        "# Demonstration\n",
        "book = Book(\"The Python Code\", \"G. V. Rossum\", 2023)\n",
        "print(book.get_book_info())"
      ],
      "metadata": {
        "id": "f2bB6gGaxX-P"
      },
      "execution_count": null,
      "outputs": []
    },
    {
      "cell_type": "markdown",
      "source": [
        "18. Create a class House with attributes address and price. Create a derived class Mansion that adds an attribute number_of_rooms."
      ],
      "metadata": {
        "id": "ivgVtAxlxZ7n"
      }
    },
    {
      "cell_type": "code",
      "source": [
        "class House:\n",
        "    def __init__(self, address, price):\n",
        "        self.address = address\n",
        "        self.price = price\n",
        "\n",
        "class Mansion(House):\n",
        "    def __init__(self, address, price, number_of_rooms):\n",
        "        super().__init__(address, price)\n",
        "        self.number_of_rooms = number_of_rooms\n",
        "\n",
        "# Demonstration\n",
        "m = Mansion(\"123 Grand Ave\", 5000000, 15)\n",
        "print(f\"Mansion at {m.address} costs ${m.price} and has {m.number_of_rooms} rooms.\")"
      ],
      "metadata": {
        "id": "cwiPM2BhxcfP"
      },
      "execution_count": null,
      "outputs": []
    }
  ]
}