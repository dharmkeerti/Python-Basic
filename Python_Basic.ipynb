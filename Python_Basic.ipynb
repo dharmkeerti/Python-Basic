{
  "nbformat": 4,
  "nbformat_minor": 0,
  "metadata": {
    "colab": {
      "provenance": []
    },
    "kernelspec": {
      "name": "python3",
      "display_name": "Python 3"
    },
    "language_info": {
      "name": "python"
    }
  },
  "cells": [
    {
      "cell_type": "markdown",
      "source": [
        "# Python Basic Questions"
      ],
      "metadata": {
        "id": "rMyEzE3OcH0l"
      }
    },
    {
      "cell_type": "markdown",
      "source": [
        "1. What is Python, and why is it popular?\n",
        "- Python is a high-level, general-purpose, interpreted programming language known for its simple, easy-to-read syntax. It's popular because it's versatile, used in web development, data science, machine learning, and automation. Its extensive libraries, active community, and beginner-friendly nature contribute to its widespread adoption.\n",
        "2. What is an interpreter in Python?\n",
        "- An interpreter is a program that reads and executes code line-by-line. Unlike a compiler, which translates the entire program at once, the Python interpreter translates and runs the code directly, which makes debugging easier.\n",
        "3. What are pre-defined keywords in Python?\n",
        "- Keywords are special, reserved words in Python with pre-defined meanings and functionalities. They are essential for structuring and controlling the flow of a program. Examples include if, for, def, class, and True.\n",
        "4. Can keywords be used as variable names?\n",
        "- No. Keywords have specific purposes and cannot be used as identifiers (variable names, function names, etc.). Using a keyword for a variable name will result in a syntax error.\n",
        "5. What is mutability in Python?\n",
        "- Mutability refers to the ability of an object to be modified after it's created. If an object is mutable, its state can be changed in place without creating a new object. Examples of mutable objects include lists, dictionaries, and sets.\n",
        "6. Why are lists mutable, but tuples are immutable?\n",
        "- Lists are mutable by design to allow for dynamic operations like adding, removing, and changing elements. Tuples are immutable to ensure their contents remain constant, which makes them suitable for storing data that shouldn't change, like coordinates or database records. This immutability also makes them safer to use as dictionary keys.\n",
        "7. What is the difference between “==” and “is” operators in Python?\n",
        "- The \"==\" operator checks for value equality, meaning it compares if the values of two objects are the same. The \"is\" operator checks for identity, meaning it compares if two variables refer to the exact same object in memory.\n",
        "8. What are logical operators in Python?\n",
        "- Logical operators (and, or, not) are used to combine or modify boolean expressions.\n",
        "\n",
        "    - and: Returns True if both operands are True.\n",
        "    - or: Returns True if at least one operand is True.\n",
        "    - not: Inverts the boolean value of the operand.\n",
        "9. What is type casting in Python?\n",
        "- Type casting (or type conversion) is the process of converting a value from one data type to another. This is done using built-in functions like int(), float(), str(), etc.\n",
        "10. What is the difference between implicit and explicit type casting?\n",
        "- Implicit type casting is done automatically by the Python interpreter to avoid data loss. For example, an int can be implicitly converted to a float in an operation like 5 + 2.5.\n",
        "\n",
        "- Explicit type casting is done manually by the programmer using type conversion functions. For example, converting a string to an integer with int(\"10\").\n",
        "11. What is the purpose of conditional statements in Python?\n",
        "- Conditional statements (if, elif, else) are used to control the flow of a program based on whether a condition is true or false. They allow you to execute different blocks of code depending on the state of your variables.\n",
        "12. How does the elif statement work?\n",
        "- The elif (short for \"else if\") statement is used after an if statement to check for an additional condition if the preceding if condition was False. You can have multiple elif blocks. The first elif condition that evaluates to True will have its code block executed, and the rest will be skipped.\n",
        "13. What is the difference between for and while loops?\n",
        "- A for loop is used to iterate over a sequence (like a list, tuple, or string) or a range of numbers. It's best when you know the number of iterations in advance.\n",
        "\n",
        "- A while loop is used to repeat a block of code as long as a certain condition is True. It's ideal when the number of iterations is not known beforehand and depends on a condition being met.\n",
        "14. Describe a scenario where a while loop is more suitable than a for loop.\n",
        "- A while loop is more suitable when you need to repeatedly perform an action until a specific, unpredictable condition is met, and you don't know the number of times the loop will run. For example, reading data from a file until you reach the end, or prompting a user for input until they enter a valid response.\n"
      ],
      "metadata": {
        "id": "IFRsWXTScQgN"
      }
    },
    {
      "cell_type": "markdown",
      "source": [
        "# Practical Questions"
      ],
      "metadata": {
        "id": "URKB4SA5g_rZ"
      }
    },
    {
      "cell_type": "markdown",
      "source": [
        "1. Write a Python program to print \"Hello, World!\""
      ],
      "metadata": {
        "id": "4OjEa2zJjqsJ"
      }
    },
    {
      "cell_type": "code",
      "source": [
        "print(\"Hello, World!\")\n"
      ],
      "metadata": {
        "id": "gWWln87rcNib"
      },
      "execution_count": null,
      "outputs": []
    },
    {
      "cell_type": "markdown",
      "source": [
        "2. Write a Python program that displays your name and age."
      ],
      "metadata": {
        "id": "oTF6dI2Xk5eh"
      }
    },
    {
      "cell_type": "code",
      "source": [
        "name = \"Dharm Keerti\"\n",
        "age = 24\n",
        "print(f\"My name is {name} and I am {age} years old.\")"
      ],
      "metadata": {
        "id": "cZcOHrdklB8n"
      },
      "execution_count": null,
      "outputs": []
    },
    {
      "cell_type": "markdown",
      "source": [
        "3. Write code to print all the pre-defined keywords in Python using the keyword library."
      ],
      "metadata": {
        "id": "98CMi8rllY4d"
      }
    },
    {
      "cell_type": "code",
      "source": [
        "import keyword\n",
        "print(keyword.kwlist)"
      ],
      "metadata": {
        "id": "PkUIntLzlbPS"
      },
      "execution_count": null,
      "outputs": []
    },
    {
      "cell_type": "markdown",
      "source": [
        "4. Write a program that checks if a given word is a Python keyword."
      ],
      "metadata": {
        "id": "SLeiF7dfloQ8"
      }
    },
    {
      "cell_type": "code",
      "source": [
        "import keyword\n",
        "\n",
        "word = \"if\"\n",
        "if keyword.iskeyword(word):\n",
        "    print(f\"'{word}' is a Python keyword.\")\n",
        "else:\n",
        "    print(f\"'{word}' is not a Python keyword.\")"
      ],
      "metadata": {
        "id": "qIjvoYsNltO2"
      },
      "execution_count": null,
      "outputs": []
    },
    {
      "cell_type": "markdown",
      "source": [
        "5. Create a list and tuple in Python, and demonstrate how attempting to change an element works differently for each."
      ],
      "metadata": {
        "id": "-7AohP1-lyT8"
      }
    },
    {
      "cell_type": "code",
      "source": [
        "# List is mutable\n",
        "my_list = [1, 2, 3]\n",
        "my_list[0] = 99\n",
        "print(f\"Modified list: {my_list}\")\n",
        "\n",
        "# Tuple is immutable\n",
        "my_tuple = (1, 2, 3)\n",
        "try:\n",
        "    my_tuple[0] = 99\n",
        "except TypeError as e:\n",
        "    print(f\"Error when modifying tuple: {e}\")"
      ],
      "metadata": {
        "id": "xMRAkQ_5l-qz"
      },
      "execution_count": null,
      "outputs": []
    },
    {
      "cell_type": "markdown",
      "source": [
        "6. Write a function to demonstrate the behavior of mutable and immutable arguments."
      ],
      "metadata": {
        "id": "R6Uvhb6LmJsu"
      }
    },
    {
      "cell_type": "code",
      "source": [
        "def modify_mutable_arg(a_list):\n",
        "    a_list.append(4)\n",
        "\n",
        "def modify_immutable_arg(a_string):\n",
        "    a_string += \" World\"\n",
        "\n",
        "my_list = [1, 2, 3]\n",
        "my_string = \"Hello\"\n",
        "\n",
        "modify_mutable_arg(my_list)\n",
        "print(f\"List after function call: {my_list}\")\n",
        "\n",
        "modify_immutable_arg(my_string)\n",
        "print(f\"String after function call: {my_string}\")"
      ],
      "metadata": {
        "id": "-a3OvhvUmS0m"
      },
      "execution_count": null,
      "outputs": []
    },
    {
      "cell_type": "markdown",
      "source": [
        "7. Write a program that performs basic arithmetic operations on two user-input numbers."
      ],
      "metadata": {
        "id": "bj6GDZBzmXVN"
      }
    },
    {
      "cell_type": "code",
      "source": [
        "try:\n",
        "    num1 = float(input(\"Enter the first number: \"))\n",
        "    num2 = float(input(\"Enter the second number: \"))\n",
        "\n",
        "    print(f\"Sum: {num1 + num2}\")\n",
        "    print(f\"Difference: {num1 - num2}\")\n",
        "    print(f\"Product: {num1 * num2}\")\n",
        "    print(f\"Quotient: {num1 / num2}\")\n",
        "except ValueError:\n",
        "    print(\"Invalid input. Please enter numbers.\")"
      ],
      "metadata": {
        "id": "JnBO9ss9muaa"
      },
      "execution_count": null,
      "outputs": []
    },
    {
      "cell_type": "markdown",
      "source": [
        "8. Write a program to demonstrate the use of logical operators."
      ],
      "metadata": {
        "id": "XDYX3X0sm0po"
      }
    },
    {
      "cell_type": "code",
      "source": [
        "x = 5\n",
        "y = 10\n",
        "\n",
        "# and operator\n",
        "print(f\"x > 0 and y < 15: {x > 0 and y < 15}\") # True\n",
        "\n",
        "# or operator\n",
        "print(f\"x > 8 or y < 8: {x > 8 or y < 8}\") # False\n",
        "\n",
        "# not operator\n",
        "print(f\"not (x > 8): {not (x > 8)}\") # True"
      ],
      "metadata": {
        "id": "dG8RsMcZm4TN"
      },
      "execution_count": null,
      "outputs": []
    },
    {
      "cell_type": "markdown",
      "source": [
        "9. Write a Python program to convert user input from string to integer, float, and boolean types."
      ],
      "metadata": {
        "id": "I3eE3xqPnB1u"
      }
    },
    {
      "cell_type": "code",
      "source": [
        "user_input = input(\"Enter a value: \")\n",
        "\n",
        "# To integer\n",
        "try:\n",
        "    print(f\"Integer: {int(user_input)}\")\n",
        "except ValueError:\n",
        "    print(\"Cannot convert to integer.\")\n",
        "\n",
        "# To float\n",
        "try:\n",
        "    print(f\"Float: {float(user_input)}\")\n",
        "except ValueError:\n",
        "    print(\"Cannot convert to float.\")\n",
        "\n",
        "# To boolean\n",
        "print(f\"Boolean: {bool(user_input)}\")"
      ],
      "metadata": {
        "id": "ltKSzcylnFX6"
      },
      "execution_count": null,
      "outputs": []
    },
    {
      "cell_type": "markdown",
      "source": [
        "10. Write code to demonstrate type casting with list elements."
      ],
      "metadata": {
        "id": "Fn9hpQgEnLpD"
      }
    },
    {
      "cell_type": "code",
      "source": [
        "str_list = [\"10\", \"20\", \"30\"]\n",
        "int_list = [int(x) for x in str_list]\n",
        "print(f\"Original string list: {str_list}\")\n",
        "print(f\"Casted integer list: {int_list}\")"
      ],
      "metadata": {
        "id": "cNdKE_8tnMdM"
      },
      "execution_count": null,
      "outputs": []
    },
    {
      "cell_type": "markdown",
      "source": [
        "11. Write a program that checks if a number is positive, negative, or zero."
      ],
      "metadata": {
        "id": "PWjNxi4HnVOs"
      }
    },
    {
      "cell_type": "code",
      "source": [
        "num = float(input(\"Enter a number: \"))\n",
        "if num > 0:\n",
        "    print(\"Positive\")\n",
        "elif num < 0:\n",
        "    print(\"Negative\")\n",
        "else:\n",
        "    print(\"Zero\")"
      ],
      "metadata": {
        "id": "wqbn7XSynV14"
      },
      "execution_count": null,
      "outputs": []
    },
    {
      "cell_type": "markdown",
      "source": [
        "12. Write a for loop to print numbers from 1 to 10."
      ],
      "metadata": {
        "id": "VmFrZ5CmncwO"
      }
    },
    {
      "cell_type": "code",
      "source": [
        "for i in range(1, 11):\n",
        "    print(i)"
      ],
      "metadata": {
        "id": "qgOuFWcpnkS0"
      },
      "execution_count": null,
      "outputs": []
    },
    {
      "cell_type": "markdown",
      "source": [
        "13. Write a Python program to find the sum of all even numbers between 1 and 50."
      ],
      "metadata": {
        "id": "IrsAxm4tnlgV"
      }
    },
    {
      "cell_type": "code",
      "source": [
        "total = 0\n",
        "for num in range(2, 51, 2):\n",
        "    total += num\n",
        "print(f\"Sum of even numbers is: {total}\")"
      ],
      "metadata": {
        "id": "-3FkGEdLnsBW"
      },
      "execution_count": null,
      "outputs": []
    },
    {
      "cell_type": "markdown",
      "source": [
        "14. Write a program to reverse a string using a while loop."
      ],
      "metadata": {
        "id": "Haz1rt66nvWH"
      }
    },
    {
      "cell_type": "code",
      "source": [
        "string = \"Python\"\n",
        "reversed_string = \"\"\n",
        "index = len(string) - 1\n",
        "while index >= 0:\n",
        "    reversed_string += string[index]\n",
        "    index -= 1\n",
        "print(f\"Reversed string: {reversed_string}\")"
      ],
      "metadata": {
        "id": "sQGdSSOinzfI"
      },
      "execution_count": null,
      "outputs": []
    },
    {
      "cell_type": "markdown",
      "source": [
        "15. Write a Python program to calculate the factorial of a number provided by the user using a while loop."
      ],
      "metadata": {
        "id": "af9porvGn2rm"
      }
    },
    {
      "cell_type": "code",
      "source": [
        "try:\n",
        "    num = int(input(\"Enter a non-negative integer: \"))\n",
        "    if num < 0:\n",
        "        print(\"Factorial is not defined for negative numbers.\")\n",
        "    else:\n",
        "        factorial = 1\n",
        "        i = 1\n",
        "        while i <= num:\n",
        "            factorial *= i\n",
        "            i += 1\n",
        "        print(f\"The factorial of {num} is {factorial}.\")\n",
        "except ValueError:\n",
        "    print(\"Invalid input. Please enter an integer.\")"
      ],
      "metadata": {
        "id": "lQ9QpnTbn5vo"
      },
      "execution_count": null,
      "outputs": []
    }
  ]
}