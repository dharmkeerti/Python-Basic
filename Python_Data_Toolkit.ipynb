{
  "nbformat": 4,
  "nbformat_minor": 0,
  "metadata": {
    "colab": {
      "provenance": []
    },
    "kernelspec": {
      "name": "python3",
      "display_name": "Python 3"
    },
    "language_info": {
      "name": "python"
    }
  },
  "cells": [
    {
      "cell_type": "markdown",
      "source": [
        "#Data Toolkit Assignment"
      ],
      "metadata": {
        "id": "jdcIHzN4c9XY"
      }
    },
    {
      "cell_type": "markdown",
      "source": [
        "1. What is the difference between multithreading and multiprocessing?\n",
        "   - **Multithreading**: Runs multiple threads within a single process, sharing the same memory space. Best for I/O-bound tasks.\n",
        "   - **Multiprocessing**: Runs multiple processes with separate memory space. Best for CPU-bound tasks.\n",
        "\n",
        "2. What are the challenges associated with memory management in Python?\n",
        "   - **Garbage collection overhead** can affect performance.\n",
        "   - **Reference cycles** can keep memory from being freed.\n",
        "   - **Memory leaks** can occur if objects are unintentionally referenced.\n",
        "   - **Large objects** may not be released immediately.\n",
        "   - **GIL (Global Interpreter Lock)** limits true parallel execution of threads."
      ],
      "metadata": {
        "id": "trX3E6sFdE0G"
      }
    },
    {
      "cell_type": "markdown",
      "source": [
        "3. Write a Python program that logs an error message to a log file when a division by zero exception occurs."
      ],
      "metadata": {
        "id": "do5N68GTeIv9"
      }
    },
    {
      "cell_type": "code",
      "execution_count": null,
      "metadata": {
        "id": "nypJDivnZOse"
      },
      "outputs": [],
      "source": [
        "import logging\n",
        "\n",
        "# Configure logging\n",
        "logging.basicConfig(filename='error.log', level=logging.ERROR)\n",
        "\n",
        "try:\n",
        "    a = 10\n",
        "    b = 0\n",
        "    result = a / b\n",
        "except ZeroDivisionError as e:\n",
        "    logging.error(f\"Division by zero occurred: {e}\")\n",
        "    print(\"Error logged to file.\")"
      ]
    },
    {
      "cell_type": "markdown",
      "source": [
        "4. Write a Python program that reads from one file and writes its content to another file."
      ],
      "metadata": {
        "id": "u7Vm3btVeRp-"
      }
    },
    {
      "cell_type": "code",
      "source": [
        "with open('source.txt', 'r') as src:\n",
        "    data = src.read()\n",
        "\n",
        "with open('destination.txt', 'w') as dest:\n",
        "    dest.write(data)\n",
        "\n",
        "print(\"File copied successfully.\")"
      ],
      "metadata": {
        "id": "kDXPj1-WeV0x"
      },
      "execution_count": null,
      "outputs": []
    },
    {
      "cell_type": "markdown",
      "source": [
        "5. Write a program that handles both IndexError and KeyError using a try-except block."
      ],
      "metadata": {
        "id": "5MfAgUzDeYfr"
      }
    },
    {
      "cell_type": "code",
      "source": [
        "try:\n",
        "    lst = [1, 2, 3]\n",
        "    print(lst[5])  # IndexError\n",
        "\n",
        "    d = {\"a\": 1}\n",
        "    print(d[\"b\"])  # KeyError\n",
        "\n",
        "except IndexError:\n",
        "    print(\"Index out of range error caught.\")\n",
        "except KeyError:\n",
        "    print(\"Key not found error caught.\")"
      ],
      "metadata": {
        "id": "WaWpIx2mebno"
      },
      "execution_count": null,
      "outputs": []
    },
    {
      "cell_type": "markdown",
      "source": [
        "6. What are the differences between NumPy arrays and Python lists?\n",
        "   - NumPy arrays store **homogeneous** data; lists can store **heterogeneous** data.\n",
        "   - NumPy arrays are **faster and more memory-efficient**.\n",
        "   - NumPy supports **vectorized operations**, lists do not.\n",
        "   - NumPy is **fixed size**, lists are **dynamic**.\n",
        "\n",
        "7. Explain the difference between apply() and map() in Pandas.\n",
        "   - map() works only on **Series**, applying a function element-wise.\n",
        "   - apply() works on **Series and DataFrames**, applying functions row-wise or column-wise.\n",
        "   - apply() is more flexible than map()."
      ],
      "metadata": {
        "id": "9pZs7Tdgeg87"
      }
    },
    {
      "cell_type": "markdown",
      "source": [
        "8. Create a histogram using Seaborn to visualize a distribution."
      ],
      "metadata": {
        "id": "nEPp6x3DfPF5"
      }
    },
    {
      "cell_type": "code",
      "source": [
        "import seaborn as sns\n",
        "import matplotlib.pyplot as plt\n",
        "import numpy as np\n",
        "\n",
        "data = np.random.randn(1000)\n",
        "sns.histplot(data, kde=True)\n",
        "plt.title(\"Histogram of Distribution\")\n",
        "plt.show()"
      ],
      "metadata": {
        "id": "ZjEPDpaMfAyr"
      },
      "execution_count": null,
      "outputs": []
    },
    {
      "cell_type": "markdown",
      "source": [
        "9. Use Pandas to load a CSV file and display its first 5 rows."
      ],
      "metadata": {
        "id": "QREb3zKkfXzW"
      }
    },
    {
      "cell_type": "code",
      "source": [
        "import pandas as pd\n",
        "\n",
        "df = pd.read_csv('data.csv')\n",
        "print(df.head())"
      ],
      "metadata": {
        "id": "HOCdYWI3feIv"
      },
      "execution_count": null,
      "outputs": []
    },
    {
      "cell_type": "markdown",
      "source": [
        "10. Calculate the correlation matrix using Seaborn and visualize it with a heatmap."
      ],
      "metadata": {
        "id": "TPHDxrBFftPk"
      }
    },
    {
      "cell_type": "code",
      "source": [
        "import seaborn as sns\n",
        "import matplotlib.pyplot as plt\n",
        "import pandas as pd\n",
        "\n",
        "# Example DataFrame\n",
        "df = pd.DataFrame({\n",
        "    'A': [1, 2, 3, 4, 5],\n",
        "    'B': [5, 4, 3, 2, 1],\n",
        "    'C': [2, 3, 4, 5, 6]\n",
        "})\n",
        "\n",
        "corr = df.corr()\n",
        "sns.heatmap(corr, annot=True, cmap='coolwarm')\n",
        "plt.title(\"Correlation Heatmap\")\n",
        "plt.show()"
      ],
      "metadata": {
        "id": "uJvANNbxfwo0"
      },
      "execution_count": null,
      "outputs": []
    }
  ]
}